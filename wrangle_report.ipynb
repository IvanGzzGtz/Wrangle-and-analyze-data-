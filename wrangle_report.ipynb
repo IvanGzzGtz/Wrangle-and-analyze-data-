{
 "cells": [
  {
   "cell_type": "markdown",
   "metadata": {},
   "source": [
    "## Reporting: wragle_report\n",
    "* Create a **300-600 word written report** called \"wrangle_report.pdf\" or \"wrangle_report.html\" that briefly describes your wrangling efforts. This is to be framed as an internal document."
   ]
  },
  {
   "cell_type": "markdown",
   "metadata": {},
   "source": [
    "\n"
   ]
  },
  {
   "cell_type": "markdown",
   "metadata": {},
   "source": [
    "Gathering part\n",
    "First. I didn't go for the API because I'm not working on my personal computer, its the office computer, so I decided to go for the other option (json-text.txt). I wanted to do the API way because I know how important and useful it is. Ill Probably do a course regarding the APIs in the future. I hope udacity offer one about it. \n",
    "\n",
    "Second. While doing the request part I didn't entirely understand the with open, so I did some research mostly on youtube and I found some videos that helped me understand this line of code. \n",
    "\n",
    "Third. The json data was hard to read, I didnt understand the logic behind the json file. It turns out its a very simple thing to do. I looked everywhere on the internet and on stackflow but didnt find the answer I needed, so I went to the knowledge base here on udacity and it turns out there was a user that had the same question. I read the question and then the answered. Everything was clearer to me.\n",
    "\n",
    "Assessing part\n",
    "\n",
    "The hardest part for me was the assessing part. It took me a lot of time and research to identify the quality issues and the tidiness issues, but after a while you start notice errors on the dataframe such as non values, datatypes, wrong names etc. This was the longest and hardest part for me. Knowing how to look for those errors is a key value to data wrangling. Its the hardest but simplest part of all (for me). I realized that after detecting the issues on the data frame, they were so obvious, that I felt bad not seeing them since day one.  I looked for information to get this part done in https://www.ringlead.com/blog/the-7-most-common-types-of-dirty-data-and-how-to-clean-them/ It helped a little bit but I continued doing some research both on the internet and the knowledge base. I hope and think I found the correct  errors. Well, at least some part of them. Maybe there are more. \n",
    "\n",
    "Visualizing data\n",
    "\n",
    "This part was not that hard, once you have your clean data frame. Doing some plots is simple. The only problem was space, I had to filter the best 5 so It could be easily visible. \n",
    "\n",
    "Note : After getting the feedback of the last submitted project, I did al the changes but I didnt do \n",
    "df_1_clean = df_1_clean[df_1_clean.retweeted_status_id.isnull()]\n",
    "df_1_clean = df_1_clean[df_1_clean.retweeted_status_user_id.isnull()]\n",
    "df_1_clean = df_1_clean[df_1_clean.retweeted_status_timestamp.isnull()]\n",
    "because I dropped all those rows. It seems they are needless, so I dropped them instead. \n"
   ]
  },
  {
   "cell_type": "code",
   "execution_count": null,
   "metadata": {},
   "outputs": [],
   "source": []
  }
 ],
 "metadata": {
  "kernelspec": {
   "display_name": "Python 3",
   "language": "python",
   "name": "python3"
  },
  "language_info": {
   "codemirror_mode": {
    "name": "ipython",
    "version": 3
   },
   "file_extension": ".py",
   "mimetype": "text/x-python",
   "name": "python",
   "nbconvert_exporter": "python",
   "pygments_lexer": "ipython3",
   "version": "3.6.3"
  }
 },
 "nbformat": 4,
 "nbformat_minor": 2
}
